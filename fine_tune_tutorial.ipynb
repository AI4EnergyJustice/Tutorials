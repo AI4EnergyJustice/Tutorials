{
 "cells": [
  {
   "cell_type": "markdown",
   "id": "9624bd81",
   "metadata": {},
   "source": [
    "\n",
    "# Customizing Large Language Models with Additional Input\n",
    "\n",
    "## Table of Contents\n",
    "\n",
    "1. [Customizing Large Language Models](#introduction)\n",
    "2. [Question-Answering LLMs](#qa)\n",
    "3. [Setting up the Environment](#setup)\n",
    "4. [Paper-QA](#paper)\n",
    "5. [Demo](#demo)\n",
    "\n",
    "---\n",
    "        "
   ]
  },
  {
   "cell_type": "markdown",
   "id": "9a2c1275",
   "metadata": {},
   "source": [
    "\n",
    "## 1. Customizing Large Language Models <a name=\"introduction\"></a>\n",
    "\n",
    " Customizing Large Language Models (LLMs) with additional data is a powerful way\n",
    " to tailor their capabilities to specific tasks or domains. This process, often\n",
    " referred to as \"fine-tuning,\" involves training the model on a new dataset that\n",
    " is related to the specific task at hand. The new data effectively guides the\n",
    " model to adjust its internal parameters and better align its language\n",
    " generation capabilities with the desired task. For instance, you might\n",
    " fine-tune a general-purpose language model on medical literature to create a\n",
    " model that excels at answering medical questions. Or you could fine-tune a\n",
    " model on customer support transcripts to create a chatbot that understands the\n",
    " specific language and issues related to a particular product or service.\n",
    " Fine-tuning allows us to leverage the power of LLMs that have been trained on\n",
    " vast amounts of data, while still creating models that are highly specialized\n",
    " and effective in specific domains or tasks.\n",
    " \n",
    " ## 2. Question-Answering LLMs <a name=\"qa\"></a>\n",
    "\n",
    "Question-Answering (QA) Large Language Models are a specialized application of LLMs that have been fine-tuned to answer questions based on provided context or broad knowledge learned during training. These models can interpret a wide range of questions and provide precise answers, making them extremely useful in applications like chatbots, virtual assistants, and customer service automation. Some QA models are designed to generate answers based on a specific piece of text or a set of documents, while others can answer questions based on a broad range of general knowledge. The latter, known as \"open-domain\" QA models, can answer questions about virtually any topic, drawing on the vast amounts of information they were trained on. Examples of open-domain QA models include GPT-3 by OpenAI and T5 by Google. These models have significantly advanced the field of natural language understanding and opened up new possibilities for AI-powered question answering."
   ]
  },
  {
   "cell_type": "markdown",
   "id": "bbd33d3e",
   "metadata": {},
   "source": [
    "\n",
    "## 3. Setting up the Environment <a name=\"setup\"></a>\n",
    "\n",
    "Before we start coding, we need to install the necessary libraries. This can be done by running the following commands in your Jupyter notebook:\n",
    "        "
   ]
  },
  {
   "cell_type": "code",
   "execution_count": 1,
   "id": "19a3b69d",
   "metadata": {},
   "outputs": [
    {
     "name": "stdout",
     "output_type": "stream",
     "text": [
      "Requirement already satisfied: paper-qa in /Users/keceli/soft/venvs/energy_justice/lib/python3.11/site-packages (3.5.0)\n",
      "Requirement already satisfied: pypdf in /Users/keceli/soft/venvs/energy_justice/lib/python3.11/site-packages (from paper-qa) (3.14.0)\n",
      "Requirement already satisfied: langchain>=0.0.198 in /Users/keceli/soft/venvs/energy_justice/lib/python3.11/site-packages (from paper-qa) (0.0.232)\n",
      "Requirement already satisfied: openai>=0.27.8 in /Users/keceli/soft/venvs/energy_justice/lib/python3.11/site-packages (from paper-qa) (0.27.8)\n",
      "Requirement already satisfied: faiss-cpu in /Users/keceli/soft/venvs/energy_justice/lib/python3.11/site-packages (from paper-qa) (1.7.4)\n",
      "Requirement already satisfied: PyCryptodome in /Users/keceli/soft/venvs/energy_justice/lib/python3.11/site-packages (from paper-qa) (3.18.0)\n",
      "Requirement already satisfied: html2text in /Users/keceli/soft/venvs/energy_justice/lib/python3.11/site-packages (from paper-qa) (2020.1.16)\n",
      "Requirement already satisfied: tiktoken>=0.4.0 in /Users/keceli/soft/venvs/energy_justice/lib/python3.11/site-packages (from paper-qa) (0.4.0)\n",
      "Requirement already satisfied: PyYAML>=5.4.1 in /Users/keceli/soft/venvs/energy_justice/lib/python3.11/site-packages (from langchain>=0.0.198->paper-qa) (6.0)\n",
      "Requirement already satisfied: SQLAlchemy<3,>=1.4 in /Users/keceli/soft/venvs/energy_justice/lib/python3.11/site-packages (from langchain>=0.0.198->paper-qa) (2.0.18)\n",
      "Requirement already satisfied: aiohttp<4.0.0,>=3.8.3 in /Users/keceli/soft/venvs/energy_justice/lib/python3.11/site-packages (from langchain>=0.0.198->paper-qa) (3.8.4)\n",
      "Requirement already satisfied: dataclasses-json<0.6.0,>=0.5.7 in /Users/keceli/soft/venvs/energy_justice/lib/python3.11/site-packages (from langchain>=0.0.198->paper-qa) (0.5.9)\n",
      "Requirement already satisfied: langsmith<0.0.6,>=0.0.5 in /Users/keceli/soft/venvs/energy_justice/lib/python3.11/site-packages (from langchain>=0.0.198->paper-qa) (0.0.5)\n",
      "Requirement already satisfied: numexpr<3.0.0,>=2.8.4 in /Users/keceli/soft/venvs/energy_justice/lib/python3.11/site-packages (from langchain>=0.0.198->paper-qa) (2.8.4)\n",
      "Requirement already satisfied: numpy<2,>=1 in /Users/keceli/soft/venvs/energy_justice/lib/python3.11/site-packages (from langchain>=0.0.198->paper-qa) (1.25.1)\n",
      "Requirement already satisfied: openapi-schema-pydantic<2.0,>=1.2 in /Users/keceli/soft/venvs/energy_justice/lib/python3.11/site-packages (from langchain>=0.0.198->paper-qa) (1.2.4)\n",
      "Requirement already satisfied: pydantic<2,>=1 in /Users/keceli/soft/venvs/energy_justice/lib/python3.11/site-packages (from langchain>=0.0.198->paper-qa) (1.10.11)\n",
      "Requirement already satisfied: requests<3,>=2 in /Users/keceli/soft/venvs/energy_justice/lib/python3.11/site-packages (from langchain>=0.0.198->paper-qa) (2.31.0)\n",
      "Requirement already satisfied: tenacity<9.0.0,>=8.1.0 in /Users/keceli/soft/venvs/energy_justice/lib/python3.11/site-packages (from langchain>=0.0.198->paper-qa) (8.2.2)\n",
      "Requirement already satisfied: tqdm in /Users/keceli/soft/venvs/energy_justice/lib/python3.11/site-packages (from openai>=0.27.8->paper-qa) (4.65.0)\n",
      "Requirement already satisfied: regex>=2022.1.18 in /Users/keceli/soft/venvs/energy_justice/lib/python3.11/site-packages (from tiktoken>=0.4.0->paper-qa) (2023.6.3)\n",
      "Requirement already satisfied: attrs>=17.3.0 in /Users/keceli/soft/venvs/energy_justice/lib/python3.11/site-packages (from aiohttp<4.0.0,>=3.8.3->langchain>=0.0.198->paper-qa) (23.1.0)\n",
      "Requirement already satisfied: charset-normalizer<4.0,>=2.0 in /Users/keceli/soft/venvs/energy_justice/lib/python3.11/site-packages (from aiohttp<4.0.0,>=3.8.3->langchain>=0.0.198->paper-qa) (3.1.0)\n",
      "Requirement already satisfied: multidict<7.0,>=4.5 in /Users/keceli/soft/venvs/energy_justice/lib/python3.11/site-packages (from aiohttp<4.0.0,>=3.8.3->langchain>=0.0.198->paper-qa) (6.0.4)\n",
      "Requirement already satisfied: async-timeout<5.0,>=4.0.0a3 in /Users/keceli/soft/venvs/energy_justice/lib/python3.11/site-packages (from aiohttp<4.0.0,>=3.8.3->langchain>=0.0.198->paper-qa) (4.0.2)\n",
      "Requirement already satisfied: yarl<2.0,>=1.0 in /Users/keceli/soft/venvs/energy_justice/lib/python3.11/site-packages (from aiohttp<4.0.0,>=3.8.3->langchain>=0.0.198->paper-qa) (1.9.2)\n",
      "Requirement already satisfied: frozenlist>=1.1.1 in /Users/keceli/soft/venvs/energy_justice/lib/python3.11/site-packages (from aiohttp<4.0.0,>=3.8.3->langchain>=0.0.198->paper-qa) (1.4.0)\n",
      "Requirement already satisfied: aiosignal>=1.1.2 in /Users/keceli/soft/venvs/energy_justice/lib/python3.11/site-packages (from aiohttp<4.0.0,>=3.8.3->langchain>=0.0.198->paper-qa) (1.3.1)\n",
      "Requirement already satisfied: marshmallow<4.0.0,>=3.3.0 in /Users/keceli/soft/venvs/energy_justice/lib/python3.11/site-packages (from dataclasses-json<0.6.0,>=0.5.7->langchain>=0.0.198->paper-qa) (3.19.0)\n",
      "Requirement already satisfied: marshmallow-enum<2.0.0,>=1.5.1 in /Users/keceli/soft/venvs/energy_justice/lib/python3.11/site-packages (from dataclasses-json<0.6.0,>=0.5.7->langchain>=0.0.198->paper-qa) (1.5.1)\n",
      "Requirement already satisfied: typing-inspect>=0.4.0 in /Users/keceli/soft/venvs/energy_justice/lib/python3.11/site-packages (from dataclasses-json<0.6.0,>=0.5.7->langchain>=0.0.198->paper-qa) (0.9.0)\n",
      "Requirement already satisfied: typing-extensions>=4.2.0 in /Users/keceli/soft/venvs/energy_justice/lib/python3.11/site-packages (from pydantic<2,>=1->langchain>=0.0.198->paper-qa) (4.7.1)\n",
      "Requirement already satisfied: idna<4,>=2.5 in /Users/keceli/soft/venvs/energy_justice/lib/python3.11/site-packages (from requests<3,>=2->langchain>=0.0.198->paper-qa) (3.4)\n",
      "Requirement already satisfied: urllib3<3,>=1.21.1 in /Users/keceli/soft/venvs/energy_justice/lib/python3.11/site-packages (from requests<3,>=2->langchain>=0.0.198->paper-qa) (2.0.3)\n",
      "Requirement already satisfied: certifi>=2017.4.17 in /Users/keceli/soft/venvs/energy_justice/lib/python3.11/site-packages (from requests<3,>=2->langchain>=0.0.198->paper-qa) (2023.5.7)\n",
      "Requirement already satisfied: packaging>=17.0 in /Users/keceli/soft/venvs/energy_justice/lib/python3.11/site-packages (from marshmallow<4.0.0,>=3.3.0->dataclasses-json<0.6.0,>=0.5.7->langchain>=0.0.198->paper-qa) (23.1)\n",
      "Requirement already satisfied: mypy-extensions>=0.3.0 in /Users/keceli/soft/venvs/energy_justice/lib/python3.11/site-packages (from typing-inspect>=0.4.0->dataclasses-json<0.6.0,>=0.5.7->langchain>=0.0.198->paper-qa) (1.0.0)\n",
      "\n",
      "\u001b[1m[\u001b[0m\u001b[34;49mnotice\u001b[0m\u001b[1;39;49m]\u001b[0m\u001b[39;49m A new release of pip is available: \u001b[0m\u001b[31;49m23.0.1\u001b[0m\u001b[39;49m -> \u001b[0m\u001b[32;49m23.2.1\u001b[0m\n",
      "\u001b[1m[\u001b[0m\u001b[34;49mnotice\u001b[0m\u001b[1;39;49m]\u001b[0m\u001b[39;49m To update, run: \u001b[0m\u001b[32;49mpip install --upgrade pip\u001b[0m\n",
      "Note: you may need to restart the kernel to use updated packages.\n"
     ]
    }
   ],
   "source": [
    "%pip install paper-qa        "
   ]
  },
  {
   "cell_type": "code",
   "execution_count": 2,
   "id": "04fae96b",
   "metadata": {},
   "outputs": [
    {
     "name": "stdout",
     "output_type": "stream",
     "text": [
      "PaperQA version: 3.5.0\n"
     ]
    }
   ],
   "source": [
    "\n",
    "import paperqa\n",
    "print('PaperQA version:', paperqa.__version__)\n",
    "        "
   ]
  },
  {
   "cell_type": "markdown",
   "id": "41da7279",
   "metadata": {},
   "source": [
    "\n",
    "## 4. Paper QA <a name=\"paper\"></a>\n",
    "\n",
    "Paper QA is a minimal package for doing question and answering from\n",
    "PDFs, HTML or raw text files. It aims to give very good answers, with no hallucinations, by grounding responses with in-text citations.\n",
    "\n",
    "By default, it uses [OpenAI Embeddings](https://platform.openai.com/docs/guides/embeddings) with a vector DB called [FAISS](https://github.com/facebookresearch/faiss) to embed and search documents. However, via [langchain](https://github.com/hwchase17/langchain) you can use open-source models or embeddings (see details below).\n",
    "\n",
    "PaperQA uses the process shown below:\n",
    "\n",
    "1. embed docs into vectors\n",
    "2. embed query into vector\n",
    "3. search for top k passages in docs\n",
    "4. create summary of each passage relevant to query\n",
    "5. put summaries into prompt\n",
    "6. generate answer with prompt\n",
    "\n",
    "## 5. Demo <a name=\"demo\"></a>\n",
    "        "
   ]
  },
  {
   "cell_type": "markdown",
   "id": "3bb66cd0",
   "metadata": {},
   "source": [
    "### Before fine-tuning"
   ]
  },
  {
   "cell_type": "code",
   "execution_count": 3,
   "id": "fabf7fec",
   "metadata": {},
   "outputs": [
    {
     "name": "stdout",
     "output_type": "stream",
     "text": [
      "Question: What is Justice40 initiative?\n",
      "\n",
      "I cannot answer this question due to insufficient information.\n",
      "\n"
     ]
    }
   ],
   "source": [
    "from paperqa import Docs\n",
    "\n",
    "# Required for Jupyter Notebook\n",
    "import nest_asyncio\n",
    "nest_asyncio.apply()\n",
    "\n",
    "docs = Docs(llm='gpt-4')\n",
    "answer = docs.query(\"What is Justice40 initiative?\")\n",
    "print(answer.formatted_answer)\n"
   ]
  },
  {
   "cell_type": "markdown",
   "id": "8948e2c5",
   "metadata": {},
   "source": [
    "### Add a document describing Justice40 initiative"
   ]
  },
  {
   "cell_type": "code",
   "execution_count": 5,
   "id": "ece691fe",
   "metadata": {},
   "outputs": [
    {
     "name": "stdout",
     "output_type": "stream",
     "text": [
      "Adding the document took 17.89 seconds\n"
     ]
    }
   ],
   "source": [
    "import time\n",
    "start = time.time()\n",
    "docs.add_url('https://www.whitehouse.gov/environmentaljustice/justice40/')\n",
    "end = time.time()\n",
    "print(f'Adding the document took {(end-start):.2f} seconds')\n"
   ]
  },
  {
   "cell_type": "markdown",
   "id": "9a86644a",
   "metadata": {},
   "source": [
    "### After fine-tuning\n"
   ]
  },
  {
   "cell_type": "code",
   "execution_count": 6,
   "id": "960f742c",
   "metadata": {},
   "outputs": [
    {
     "name": "stdout",
     "output_type": "stream",
     "text": [
      "Question: What is Justice40 initiative?\n",
      "\n",
      "The Justice40 Initiative is a historic commitment by the U.S. Federal Government, established by President Biden, to ensure that 40% of the overall benefits of certain federal investments flow to disadvantaged communities that are marginalized, underserved, and overburdened by pollution (The2023 chunk 21). This initiative marks the first time in the nation's history that the government has set a goal related to environmental justice (The2023 chunk 0). The initiative covers existing and new programs that meet eligibility requirements, including those created by the Inflation Reduction Act, the Bipartisan Infrastructure Law, and the American Rescue Plan (The2023 chunk 22).\n",
      "\n",
      "References\n",
      "\n",
      "1. (The2023 chunk 21): \"The White House.\" Justice40 Initiative | Environmental Justice | The White House, 21 Apr. 2023, www.whitehouse.gov/environmentaljustice/justice40/.\n",
      "\n",
      "2. (The2023 chunk 0): \"The White House.\" Justice40 Initiative | Environmental Justice | The White House, 21 Apr. 2023, www.whitehouse.gov/environmentaljustice/justice40/.\n",
      "\n",
      "3. (The2023 chunk 22): \"The White House.\" Justice40 Initiative | Environmental Justice | The White House, 21 Apr. 2023, www.whitehouse.gov/environmentaljustice/justice40/.\n",
      "\n",
      "Fine-tuning and query took 37.20 seconds\n"
     ]
    }
   ],
   "source": [
    "start = time.time()\n",
    "answer = docs.query(\"What is Justice40 initiative?\")\n",
    "end = time.time()\n",
    "print(answer.formatted_answer)\n",
    "print(f'Fine-tuning and query took {(end-start):.2f} seconds')\n"
   ]
  },
  {
   "cell_type": "code",
   "execution_count": null,
   "id": "c3538f41-b84e-4b0e-bb8a-b7b8b674865e",
   "metadata": {},
   "outputs": [],
   "source": []
  }
 ],
 "metadata": {
  "kernelspec": {
   "display_name": "Python 3 (ipykernel)",
   "language": "python",
   "name": "python3"
  },
  "language_info": {
   "codemirror_mode": {
    "name": "ipython",
    "version": 3
   },
   "file_extension": ".py",
   "mimetype": "text/x-python",
   "name": "python",
   "nbconvert_exporter": "python",
   "pygments_lexer": "ipython3",
   "version": "3.11.4"
  },
  "vscode": {
   "interpreter": {
    "hash": "656fdc43c6a44647078f41991652796517ac498021f62375f4b7c9b76d0f8ed9"
   }
  }
 },
 "nbformat": 4,
 "nbformat_minor": 5
}
