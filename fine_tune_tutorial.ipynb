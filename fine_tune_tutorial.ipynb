{
 "cells": [
  {
   "cell_type": "markdown",
   "id": "9624bd81",
   "metadata": {},
   "source": [
    "\n",
    "# Customizing Large Language Models with Additional Input\n",
    "\n",
    "## Table of Contents\n",
    "\n",
    "1. [Customizing Large Language Models](#introduction)\n",
    "2. [Question-Answering LLMs](#qa)\n",
    "3. [Setting up the Environment](#setup)\n",
    "4. [Paper-QA](#paper)\n",
    "5. [Demo](#demo)\n",
    "\n",
    "---\n",
    "        "
   ]
  },
  {
   "cell_type": "markdown",
   "id": "9a2c1275",
   "metadata": {},
   "source": [
    "\n",
    "## 1. Customizing Large Language Models <a name=\"introduction\"></a>\n",
    "\n",
    " Customizing Large Language Models (LLMs) with additional data is a powerful way\n",
    " to tailor their capabilities to specific tasks or domains. This process, often\n",
    " referred to as \"fine-tuning,\" involves training the model on a new dataset that\n",
    " is related to the specific task at hand. The new data effectively guides the\n",
    " model to adjust its internal parameters and better align its language\n",
    " generation capabilities with the desired task. For instance, you might\n",
    " fine-tune a general-purpose language model on medical literature to create a\n",
    " model that excels at answering medical questions. Or you could fine-tune a\n",
    " model on customer support transcripts to create a chatbot that understands the\n",
    " specific language and issues related to a particular product or service.\n",
    " Fine-tuning allows us to leverage the power of LLMs that have been trained on\n",
    " vast amounts of data, while still creating models that are highly specialized\n",
    " and effective in specific domains or tasks.\n",
    " \n",
    " ## 2. Question-Answering LLMs <a name=\"qa\"></a>\n",
    "\n",
    "Question-Answering (QA) Large Language Models are a specialized application of LLMs that have been fine-tuned to answer questions based on provided context or broad knowledge learned during training. These models can interpret a wide range of questions and provide precise answers, making them extremely useful in applications like chatbots, virtual assistants, and customer service automation. Some QA models are designed to generate answers based on a specific piece of text or a set of documents, while others can answer questions based on a broad range of general knowledge. The latter, known as \"open-domain\" QA models, can answer questions about virtually any topic, drawing on the vast amounts of information they were trained on. Examples of open-domain QA models include GPT-3 by OpenAI and T5 by Google. These models have significantly advanced the field of natural language understanding and opened up new possibilities for AI-powered question answering."
   ]
  },
  {
   "cell_type": "markdown",
   "id": "bbd33d3e",
   "metadata": {},
   "source": [
    "\n",
    "## 3. Setting up the Environment <a name=\"setup\"></a>\n",
    "\n",
    "Before we start coding, we need to install the necessary libraries. This can be done by running the following commands in your Jupyter notebook:\n",
    "        "
   ]
  },
  {
   "cell_type": "code",
   "execution_count": null,
   "id": "19a3b69d",
   "metadata": {},
   "outputs": [],
   "source": [
    "\n",
    "!pip install paperqa        "
   ]
  },
  {
   "cell_type": "code",
   "execution_count": 1,
   "id": "04fae96b",
   "metadata": {},
   "outputs": [
    {
     "name": "stdout",
     "output_type": "stream",
     "text": [
      "PaperQA version: 3.3.3\n"
     ]
    }
   ],
   "source": [
    "\n",
    "import paperqa\n",
    "print('PaperQA version:', paperqa.__version__)\n",
    "        "
   ]
  },
  {
   "cell_type": "markdown",
   "id": "41da7279",
   "metadata": {},
   "source": [
    "\n",
    "## 4. Paper QA <a name=\"paper\"></a>\n",
    "\n",
    "Paper QA is a minimal package for doing question and answering from\n",
    "PDFs, HTML or raw text files. It aims to give very good answers, with no hallucinations, by grounding responses with in-text citations.\n",
    "\n",
    "By default, it uses [OpenAI Embeddings](https://platform.openai.com/docs/guides/embeddings) with a vector DB called [FAISS](https://github.com/facebookresearch/faiss) to embed and search documents. However, via [langchain](https://github.com/hwchase17/langchain) you can use open-source models or embeddings (see details below).\n",
    "\n",
    "PaperQA uses the process shown below:\n",
    "\n",
    "1. embed docs into vectors\n",
    "2. embed query into vector\n",
    "3. search for top k passages in docs\n",
    "4. create summary of each passage relevant to query\n",
    "5. put summaries into prompt\n",
    "6. generate answer with prompt\n",
    "\n",
    "## 5. Demo <a name=\"demo\"></a>\n",
    "        "
   ]
  },
  {
   "cell_type": "markdown",
   "id": "3bb66cd0",
   "metadata": {},
   "source": [
    "### Before fine-tuning"
   ]
  },
  {
   "cell_type": "code",
   "execution_count": 4,
   "id": "fabf7fec",
   "metadata": {},
   "outputs": [
    {
     "name": "stdout",
     "output_type": "stream",
     "text": [
      "Question: What is Justice40 initiative?\n",
      "\n",
      "I cannot answer this question due to insufficient information.\n",
      "\n"
     ]
    }
   ],
   "source": [
    "from paperqa import Docs\n",
    "\n",
    "# Required for Jupyter Notebook\n",
    "import nest_asyncio\n",
    "nest_asyncio.apply()\n",
    "\n",
    "docs = Docs(llm='gpt-4')\n",
    "answer = docs.query(\"What is Justice40 initiative?\")\n",
    "print(answer.formatted_answer)\n"
   ]
  },
  {
   "cell_type": "markdown",
   "id": "8948e2c5",
   "metadata": {},
   "source": [
    "### Add a document describing Justice40 initiative"
   ]
  },
  {
   "cell_type": "code",
   "execution_count": 5,
   "id": "ece691fe",
   "metadata": {},
   "outputs": [],
   "source": [
    "import time\n",
    "start = time.time()\n",
    "docs.add('/home/keceli/data/papers/M-21-28.pdf')\n",
    "end = time.time()\n",
    "print(f'Adding the document took {(end-start):.2f} seconds')\n"
   ]
  },
  {
   "cell_type": "markdown",
   "id": "9a86644a",
   "metadata": {},
   "source": [
    "### After fine-tuning\n"
   ]
  },
  {
   "cell_type": "code",
   "execution_count": 6,
   "id": "960f742c",
   "metadata": {},
   "outputs": [
    {
     "name": "stdout",
     "output_type": "stream",
     "text": [
      "Question: What is Justice40 initiative?\n",
      "\n",
      "The Justice40 Initiative is a U.S. federal program aimed at securing environmental justice and economic opportunity for disadvantaged communities historically burdened by pollution and underinvestment. The initiative, outlined in Executive Order 14008, seeks to ensure that 40% of the overall benefits of certain federal investments flow to these communities (Interim2021 pages 1-2). It involves various agencies and programs, including the EPA, HHS, HUD, and USDA, among others, which are directed to align their policies, practices, and procedures with the goals of the initiative (Interim2021 pages 12-13). The initiative focuses on seven areas: climate change, clean energy and energy efficiency, clean transportation, affordable and sustainable housing, training and workforce development, remediation and reduction of legacy pollution, and critical clean water and waste infrastructure (Interim2021 pages 3-4).\n",
      "\n",
      "References\n",
      "\n",
      "1. (Interim2021 pages 12-13): \"Interim Implementation Guidance for the Justice40 Initiative.\" Executive Office of the President, Office of Management and Budget, 20 July 2021.\n",
      "\n",
      "2. (Interim2021 pages 3-4): \"Interim Implementation Guidance for the Justice40 Initiative.\" Executive Office of the President, Office of Management and Budget, 20 July 2021.\n",
      "\n",
      "3. (Interim2021 pages 1-2): \"Interim Implementation Guidance for the Justice40 Initiative.\" Executive Office of the President, Office of Management and Budget, 20 July 2021.\n",
      "\n",
      "Fine-tuning took 3.28 seconds\n"
     ]
    }
   ],
   "source": [
    "start = time.time()\n",
    "answer = docs.query(\"What is Justice40 initiative?\")\n",
    "end = time.time()\n",
    "print(answer.formatted_answer)\n",
    "print(f'Fine-tuning and query took {(end-start):.2f} seconds')\n"
   ]
  }
 ],
 "metadata": {
  "kernelspec": {
   "display_name": "Python 3.10.6 ('paper-qa_venv')",
   "language": "python",
   "name": "python3"
  },
  "language_info": {
   "codemirror_mode": {
    "name": "ipython",
    "version": 3
   },
   "file_extension": ".py",
   "mimetype": "text/x-python",
   "name": "python",
   "nbconvert_exporter": "python",
   "pygments_lexer": "ipython3",
   "version": "3.10.6"
  },
  "vscode": {
   "interpreter": {
    "hash": "656fdc43c6a44647078f41991652796517ac498021f62375f4b7c9b76d0f8ed9"
   }
  }
 },
 "nbformat": 4,
 "nbformat_minor": 5
}
